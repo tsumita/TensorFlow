{
 "cells": [
  {
   "cell_type": "markdown",
   "metadata": {
    "deletable": true,
    "editable": true
   },
   "source": [
    "## Irisデータ 線形分類"
   ]
  },
  {
   "cell_type": "code",
   "execution_count": 1,
   "metadata": {
    "collapsed": false,
    "deletable": true,
    "editable": true
   },
   "outputs": [
    {
     "name": "stderr",
     "output_type": "stream",
     "text": [
      "/Users/daisuke/.pyenv/versions/anaconda3-2.4.0/lib/python3.5/importlib/_bootstrap.py:222: RuntimeWarning: compiletime version 3.6 of module 'tensorflow.python.framework.fast_tensor_util' does not match runtime version 3.5\n",
      "  return f(*args, **kwds)\n",
      "/Users/daisuke/.pyenv/versions/anaconda3-2.4.0/lib/python3.5/site-packages/h5py/__init__.py:34: FutureWarning: Conversion of the second argument of issubdtype from `float` to `np.floating` is deprecated. In future, it will be treated as `np.float64 == np.dtype(float).type`.\n",
      "  from ._conv import register_converters as _register_converters\n"
     ]
    }
   ],
   "source": [
    "import matplotlib.pyplot as plt\n",
    "import numpy as np\n",
    "from sklearn import datasets \n",
    "import tensorflow as tf\n",
    "\n",
    "sess = tf.Session()\n",
    "\n",
    "## irisデータのロード(irisデータ Setosa:label=0の予測)\n",
    "iris = datasets.load_iris()\n",
    "binary_target = np.array([1. if x==0 else 0. for x in iris.target])\n",
    "# iris.data = [(がく片の長さ、がく片の幅、花びらの長さ、花びらの幅)] \n",
    "iris_2d = np.array([[x[2], x[3]] for x in iris.data])\n",
    "\n",
    "## batchサイズ, プレースホルダ, batchサイズは変動するのでNone\n",
    "batchsize=20\n",
    "x1_data = tf.placeholder(shape=[None, 1], dtype=tf.float32) \n",
    "x2_data = tf.placeholder(shape=[None, 1], dtype=tf.float32) \n",
    "y_target = tf.placeholder(shape=[None, 1], dtype=tf.float32)\n",
    "A = tf.Variable(tf.random_normal(shape=[1, 1]))\n",
    "b = tf.Variable(tf.random_normal(shape=[1, 1]))\n",
    "\n",
    "## 線形モデル定義 xl = x2 * A + b\n",
    "my_mult = tf.matmul(x2_data, A)\n",
    "my_add = tf.add(my_mult, b)\n",
    "my_output = tf.subtract(x1_data, my_add)\n",
    "\n",
    "## 損失関数(シグモイド交差エントロピー)\n",
    "xentropy = tf.nn.sigmoid_cross_entropy_with_logits(logits=my_output, labels=y_target)\n",
    "\n",
    "## 最適化アルゴリズムの設定(学習率 0.05)\n",
    "my_opt = tf.train.GradientDescentOptimizer(0.05)\n",
    "train_step = my_opt.minimize(xentropy)\n",
    "\n",
    "## 変数初期化演算\n",
    "init = tf.global_variables_initializer()\n",
    "sess.run(init)"
   ]
  },
  {
   "cell_type": "code",
   "execution_count": 2,
   "metadata": {
    "collapsed": false,
    "deletable": true,
    "editable": true
   },
   "outputs": [
    {
     "name": "stdout",
     "output_type": "stream",
     "text": [
      "Step #200 A = [[8.592396]], b = [[-3.443024]]\n",
      "Step #400 A = [[10.129572]], b = [[-4.5927086]]\n",
      "Step #600 A = [[11.071627]], b = [[-5.359834]]\n",
      "Step #800 A = [[11.834188]], b = [[-5.881219]]\n",
      "Step #1000 A = [[12.358748]], b = [[-6.3460903]]\n"
     ]
    }
   ],
   "source": [
    "epoch = 1000\n",
    "\n",
    "\n",
    "for i in range(epoch):\n",
    "    rand_index = np.random.choice(len(iris_2d), size = batchsize)\n",
    "    rand_x = iris_2d[rand_index]\n",
    "    rand_xl = np.array([[x[0]] for x in rand_x])\n",
    "    rand_x2 = np.array([[x[1]] for x in rand_x])\n",
    "    rand_y = np.array([[y] for y in binary_target[rand_index]]) \n",
    "    sess.run(train_step, feed_dict={x1_data: rand_xl, x2_data: rand_x2, y_target: rand_y})\n",
    "    if (i + 1) % 200 == 0:\n",
    "        print('Step #' + str(i+1) + ' A = ' + str(sess.run(A)) + ', b = ' + str(sess.run(b)))"
   ]
  },
  {
   "cell_type": "code",
   "execution_count": 3,
   "metadata": {
    "collapsed": false,
    "deletable": true,
    "editable": true
   },
   "outputs": [
    {
     "data": {
      "image/png": "[encoded data removed]",
      "text/plain": [
       "<matplotlib.figure.Figure at 0x11042d5c0>"
      ]
     },
     "metadata": {},
     "output_type": "display_data"
    }
   ],
   "source": [
    "#係数を抽出\n",
    "[[slope]] = sess.run(A) \n",
    "[[intercept]] = sess.run(b)\n",
    "\n",
    "#適合する直線を作成\n",
    "x = np.linspace(0, 3, num=50)\n",
    "ablineValues = []\n",
    "for i in x:\n",
    "    ablineValues.append(slope*i+intercept)\n",
    "    \n",
    "setosa_x = [a[1] for i, a in enumerate(iris_2d) if binary_target[i] == 1]\n",
    "setosa_y = [a[0] for i, a in enumerate(iris_2d) if binary_target[i] == 1]\n",
    "non_setosa_x = [a[1] for i, a in enumerate(iris_2d) if binary_target[i] == 0]\n",
    "non_setosa_y = [a[0] for i, a in enumerate(iris_2d) if binary_target[i] == 0]\n",
    "\n",
    "plt.plot(setosa_x, setosa_y, 'rx', ms=10, mew=2, label='setosa')\n",
    "plt.plot(non_setosa_x, non_setosa_y, 'ro', label='Non_setosa')\n",
    "plt.plot(x, ablineValues, 'b-')\n",
    "plt.xlim([0.0, 2.7])\n",
    "plt.ylim([0.0, 7.1])\n",
    "\n",
    "plt.show()"
   ]
  },
  {
   "cell_type": "code",
   "execution_count": null,
   "metadata": {
    "collapsed": true,
    "deletable": true,
    "editable": true
   },
   "outputs": [],
   "source": []
  },
  {
   "cell_type": "code",
   "execution_count": null,
   "metadata": {
    "collapsed": true,
    "deletable": true,
    "editable": true
   },
   "outputs": [],
   "source": []
  },
  {
   "cell_type": "markdown",
   "metadata": {
    "deletable": true,
    "editable": true
   },
   "source": [
    "## MNIST 分類"
   ]
  },
  {
   "cell_type": "code",
   "execution_count": 1,
   "metadata": {
    "collapsed": false,
    "deletable": true,
    "editable": true
   },
   "outputs": [
    {
     "name": "stderr",
     "output_type": "stream",
     "text": [
      "/Users/daisuke/.pyenv/versions/anaconda3-2.4.0/lib/python3.5/importlib/_bootstrap.py:222: RuntimeWarning: compiletime version 3.6 of module 'tensorflow.python.framework.fast_tensor_util' does not match runtime version 3.5\n",
      "  return f(*args, **kwds)\n",
      "/Users/daisuke/.pyenv/versions/anaconda3-2.4.0/lib/python3.5/site-packages/h5py/__init__.py:34: FutureWarning: Conversion of the second argument of issubdtype from `float` to `np.floating` is deprecated. In future, it will be treated as `np.float64 == np.dtype(float).type`.\n",
      "  from ._conv import register_converters as _register_converters\n"
     ]
    },
    {
     "name": "stdout",
     "output_type": "stream",
     "text": [
      "Extracting MNIST_data/train-images-idx3-ubyte.gz\n",
      "Extracting MNIST_data/train-labels-idx1-ubyte.gz\n",
      "Extracting MNIST_data/t10k-images-idx3-ubyte.gz\n",
      "Extracting MNIST_data/t10k-labels-idx1-ubyte.gz\n"
     ]
    }
   ],
   "source": [
    "import random\n",
    "import numpy as np\n",
    "import tensorflow as tf\n",
    "import matplotlib.pyplot as plt\n",
    "from PIL import Image\n",
    "from tensorflow.examples.tutorials.mnist import input_data\n",
    "\n",
    "sess = tf.Session()\n",
    "\n",
    "mnist = input_data.read_data_sets(\"MNIST_data/\", one_hot=True)\n",
    "\n",
    "## 画像のサンプリング\n",
    "np.random.seed(13)\n",
    "train_size = 1000\n",
    "test_size = 102\n",
    "rand_train_indices = np.random.choice(len(mnist.train.images), train_size, replace = False)\n",
    "rand_test_indices = np.random.choice(len(mnist.test.images), test_size, replace = False)\n",
    "\n",
    "x_vals_train = mnist.train.images[rand_train_indices]\n",
    "x_vals_test = mnist.test.images[rand_test_indices]\n",
    "y_vals_train = mnist.train.labels[rand_train_indices]\n",
    "y_vals_test = mnist.test.labels[rand_test_indices]\n",
    "\n",
    "## バッチサイズ\n",
    "batch_size = 6\n",
    "\n",
    "## プレースホルダの設定\n",
    "# x_data_train = tf.placeholder(shape=[None, 784], dtype=tf.float32)\n",
    "# x_data_test = tf.placeholder(shape=[None, 784], dtype=tf.float32)\n",
    "# y_target_train = tf.placeholder(shape=[None, 10], dtype=tf.float32)\n",
    "# y_target_test = tf.placeholder(shape=[None, 10], dtype=tf.float32)\n",
    "x_data = tf.placeholder(shape=[None, 784], dtype=tf.float32)\n",
    "y_target = tf.placeholder(shape=[None, 10], dtype=tf.float32)"
   ]
  },
  {
   "cell_type": "code",
   "execution_count": 2,
   "metadata": {
    "collapsed": false,
    "deletable": true,
    "editable": true
   },
   "outputs": [],
   "source": [
    "def normalize_cols(m):\n",
    "    col_max = m.max(axis=0)\n",
    "    col_min = m.min(axis=0)\n",
    "    return (m - col_min) / (col_max - col_min)"
   ]
  },
  {
   "cell_type": "code",
   "execution_count": 3,
   "metadata": {
    "collapsed": true,
    "deletable": true,
    "editable": true
   },
   "outputs": [],
   "source": [
    "def init_weight(shape, st_dev):\n",
    "    return tf.Variable(tf.random_normal(shape, stddev = st_dev))\n",
    "\n",
    "def init_bias(shape, st_dev):\n",
    "    return tf.Variable(tf.random_normal(shape, stddev = st_dev))\n",
    "\n",
    "## 全結合層の計算定義\n",
    "def fully_connected(input_layer, weights, biases):\n",
    "    layer = tf.add(tf.matmul(input_layer, weights), biases) \n",
    "    return tf.nn.relu(layer)"
   ]
  },
  {
   "cell_type": "code",
   "execution_count": 23,
   "metadata": {
    "collapsed": false,
    "deletable": true,
    "editable": true
   },
   "outputs": [],
   "source": [
    "# 1層目\n",
    "weight_1 = init_weight(shape=[784, 300], st_dev=10.0)\n",
    "bias_1 = init_bias(shape=[300], st_dev=10.0)\n",
    "layer_1 = fully_connected(x_data, weight_1, bias_1)\n",
    "\n",
    "# 2層目\n",
    "weight_2 = init_weight(shape=[300, 100], st_dev=10.0)\n",
    "bias_2 = init_bias(shape=[100], st_dev=10.0)\n",
    "layer_2 = fully_connected(layer_1, weight_2, bias_2)\n",
    "\n",
    "# 3層目\n",
    "# weight_3 = init_weight(shape=[100, 100], st_dev=10.0)\n",
    "# bias_3 = init_bias(shape=[100], st_dev=10.0)\n",
    "# layer_3 = fully_connected(x_data_train, weight_3, bias_3)\n",
    "\n",
    "# 出力層\n",
    "weight_out = init_weight(shape=[100, 10], st_dev=10.0)\n",
    "bias_out = init_bias(shape=[10], st_dev=10.0)\n",
    "final_output = fully_connected(layer_2, weight_out, bias_out)\n",
    "\n",
    "#損失関数を作成\n",
    "loss = tf.reduce_mean(tf.abs(y_target - final_output))\n",
    "#最適化関数を作成\n",
    "my_opt = tf.train.AdamOptimizer(0.05) \n",
    "train_step = my_opt.minimize(loss)\n",
    "#変数を初期化\n",
    "init = tf.global_variables_initializer()\n",
    "sess.run(init)"
   ]
  },
  {
   "cell_type": "code",
   "execution_count": null,
   "metadata": {
    "collapsed": true
   },
   "outputs": [],
   "source": []
  },
  {
   "cell_type": "code",
   "execution_count": 24,
   "metadata": {
    "collapsed": true,
    "deletable": true,
    "editable": true
   },
   "outputs": [
    {
     "name": "stdout",
     "output_type": "stream",
     "text": [
      "Generation: 1. Loss = 190880.17\n",
      "Generation: 2. Loss = 100273.664\n",
      "Generation: 3. Loss = 76341.125\n",
      "Generation: 4. Loss = 51827.273\n",
      "Generation: 5. Loss = 20662.299\n",
      "Generation: 6. Loss = 9753.708\n",
      "Generation: 7. Loss = 8251.826\n",
      "Generation: 8. Loss = 5981.3936\n",
      "Generation: 9. Loss = 0.1\n",
      "Generation: 10. Loss = 2718.9573\n",
      "Generation: 11. Loss = 3117.024\n",
      "Generation: 12. Loss = 66.159904\n",
      "Generation: 13. Loss = 0.1\n",
      "Generation: 14. Loss = 12626.432\n",
      "Generation: 15. Loss = 0.1\n",
      "Generation: 16. Loss = 0.1\n",
      "Generation: 17. Loss = 0.1\n",
      "Generation: 18. Loss = 0.1\n",
      "Generation: 19. Loss = 0.1\n",
      "Generation: 20. Loss = 0.1\n"
     ]
    }
   ],
   "source": [
    "loss_vec = []\n",
    "test_loss = []\n",
    "# num_loops = int(np.ceil(len(x_vals_train)/batch_size))\n",
    "num_loops = 20\n",
    "\n",
    "for i in range(num_loops):\n",
    "    rand_index = np.random.choice(len(x_vals_train), size=batch_size)\n",
    "    rand_x = x_vals_train[rand_index]\n",
    "    rand_y = y_vals_train[rand_index]\n",
    "#     print(rand_x.shape)\n",
    "    sess.run(train_step, feed_dict={x_data: rand_x, y_target: rand_y})\n",
    "\n",
    "    temp_loss = sess.run(loss, feed_dict={x_data: rand_x, y_target: rand_y})\n",
    "    loss_vec.append(temp_loss)\n",
    "    \n",
    "    test_temp_loss = sess.run(loss, feed_dict={x_data: x_vals_test, y_target: y_vals_test})\n",
    "    test_loss.append(test_temp_loss)\n",
    "    \n",
    "    if (i+1)%1 == 0:\n",
    "        print('Generation: ' + str(i+1) + '. Loss = ' + str(temp_loss))"
   ]
  },
  {
   "cell_type": "code",
   "execution_count": 143,
   "metadata": {
    "collapsed": false
   },
   "outputs": [
    {
     "data": {
      "image/png": "[encoded data removed]",
      "text/plain": [
       "<matplotlib.figure.Figure at 0x142cc1668>"
      ]
     },
     "metadata": {},
     "output_type": "display_data"
    }
   ],
   "source": [
    "import matplotlib.pyplot as plt\n",
    "plt.plot(loss_vec, 'k-', label='Train Loss') \n",
    "plt.plot(test_loss, 'r--', label='Test Loss') \n",
    "plt.title('Loss (MSE) per Generation') \n",
    "plt.xlabel('Generation')\n",
    "plt.ylabel('Loss') \n",
    "plt.legend(loc='upper right') \n",
    "plt.show()"
   ]
  },
  {
   "cell_type": "code",
   "execution_count": null,
   "metadata": {
    "collapsed": true
   },
   "outputs": [],
   "source": []
  },
  {
   "cell_type": "code",
   "execution_count": null,
   "metadata": {
    "collapsed": true
   },
   "outputs": [],
   "source": []
  },
  {
   "cell_type": "code",
   "execution_count": null,
   "metadata": {
    "collapsed": true
   },
   "outputs": [],
   "source": []
  },
  {
   "cell_type": "code",
   "execution_count": null,
   "metadata": {
    "collapsed": true
   },
   "outputs": [],
   "source": []
  }
 ],
 "metadata": {
  "kernelspec": {
   "display_name": "Python [default]",
   "language": "python",
   "name": "python3"
  },
  "language_info": {
   "codemirror_mode": {
    "name": "ipython",
    "version": 3
   },
   "file_extension": ".py",
   "mimetype": "text/x-python",
   "name": "python",
   "nbconvert_exporter": "python",
   "pygments_lexer": "ipython3",
   "version": "3.5.3"
  }
 },
 "nbformat": 4,
 "nbformat_minor": 2
}
