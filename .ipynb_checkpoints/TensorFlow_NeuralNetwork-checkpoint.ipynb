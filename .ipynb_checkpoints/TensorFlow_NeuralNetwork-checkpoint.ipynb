{
 "cells": [
  {
   "cell_type": "markdown",
   "metadata": {
    "deletable": true,
    "editable": true
   },
   "source": [
    "# NeuralNetwork"
   ]
  },
  {
   "cell_type": "code",
   "execution_count": 1,
   "metadata": {
    "collapsed": true,
    "deletable": true,
    "editable": true
   },
   "outputs": [
    {
     "name": "stderr",
     "output_type": "stream",
     "text": [
      "/Users/daisuke/.pyenv/versions/anaconda3-2.4.0/lib/python3.5/importlib/_bootstrap.py:222: RuntimeWarning: compiletime version 3.6 of module 'tensorflow.python.framework.fast_tensor_util' does not match runtime version 3.5\n",
      "  return f(*args, **kwds)\n",
      "/Users/daisuke/.pyenv/versions/anaconda3-2.4.0/lib/python3.5/site-packages/h5py/__init__.py:34: FutureWarning: Conversion of the second argument of issubdtype from `float` to `np.floating` is deprecated. In future, it will be treated as `np.float64 == np.dtype(float).type`.\n",
      "  from ._conv import register_converters as _register_converters\n"
     ]
    },
    {
     "name": "stdout",
     "output_type": "stream",
     "text": [
      "Extracting MNIST_data/train-images-idx3-ubyte.gz\n",
      "Extracting MNIST_data/train-labels-idx1-ubyte.gz\n",
      "Extracting MNIST_data/t10k-images-idx3-ubyte.gz\n",
      "Extracting MNIST_data/t10k-labels-idx1-ubyte.gz\n"
     ]
    }
   ],
   "source": [
    "import random\n",
    "import matplotlib.pyplot as plt\n",
    "import numpy as np\n",
    "import tensorflow as tf\n",
    "import matplotlib.pyplot as plt\n",
    "from PIL import Image\n",
    "from tensorflow.examples.tutorials.mnist import input_data\n",
    "\n",
    "mnist = input_data.read_data_sets(\"MNIST_data/\", one_hot=True)\n",
    "\n",
    "## 画像抽出\n",
    "np.random.seed(13)\n",
    "train_size = 1000\n",
    "test_size = 102\n",
    "rand_train_indices = np.random.choice(len(mnist.train.images), train_size, replace = False)\n",
    "rand_test_indices = np.random.choice(len(mnist.test.images), test_size, replace = False)\n",
    "\n",
    "x_vals_train = mnist.train.images[rand_train_indices]\n",
    "x_vals_test = mnist.test.images[rand_test_indices]\n",
    "y_vals_train = mnist.train.labels[rand_train_indices]\n",
    "y_vals_test = mnist.test.labels[rand_test_indices]"
   ]
  },
  {
   "cell_type": "code",
   "execution_count": 2,
   "metadata": {
    "code_folding": [
     69,
     72,
     75,
     78,
     79
    ],
    "collapsed": true,
    "deletable": true,
    "editable": true
   },
   "outputs": [],
   "source": [
    "class NeuralNetwork():\n",
    "    def __init__(self, x_train_data, y_train_data, hidden_layers_info=[300, 100],\n",
    "                  act_func=['relu','relu'], loss_func='absolute', optimizer='adam', drop_out=False):\n",
    "        self.sess = tf.Session()\n",
    "        self.x_train_data = x_train_data\n",
    "        self.y_train_data = y_train_data\n",
    "        self.input_size = len(x_train_data[0])\n",
    "        self.output_size = len(y_train_data[0])\n",
    "        self.layers_info = [self.input_size] + hidden_layers_info + [self.output_size]\n",
    "        self.act_func = act_func\n",
    "        self.loss_func = loss_func\n",
    "        self.optimizer = optimizer\n",
    "        \n",
    "        self.create_placeholder()\n",
    "        self.init_weights()\n",
    "       \n",
    "        self.set_model()\n",
    "        self.set_loss_func()\n",
    "        self.set_optimize_func()\n",
    "        self.train_step = self.my_opt.minimize(self.loss)\n",
    "        \n",
    "        with tf.name_scope('summary'):\n",
    "            tf.summary.scalar('loss', self.loss)\n",
    "            self.merged = tf.summary.merge_all()\n",
    "            self.writer = tf.summary.FileWriter('./logs', self.sess.graph)\n",
    "        #変数を初期化\n",
    "        self.init = tf.global_variables_initializer()\n",
    "        self.sess.run(self.init)\n",
    "        \n",
    "    def init_weights(self):\n",
    "        weight_shapes = [[self.layers_info[i], self.layers_info[i+1]] for i in range(len(self.layers_info) - 1)]\n",
    "        self.weights = [tf.Variable(tf.random_normal(shape, stddev=10.), name='weight_layer'+str(i+1)) for i,shape in enumerate(weight_shapes)]\n",
    "        bias_shapes = [[self.layers_info[i+1]] for i in range(len(self.layers_info) - 1)]\n",
    "        self.biases = [tf.Variable(tf.random_normal(shape, stddev=10.), name='bias_layer'+str(i+1)) for i,shape in enumerate(bias_shapes)]\n",
    "        \n",
    "    def create_placeholder(self):\n",
    "        self.x_data = tf.placeholder(shape=[None, self.input_size], dtype=tf.float32, name='input_data')\n",
    "        self.y_target = tf.placeholder(shape=[None, self.output_size], dtype=tf.float32, name='labels')\n",
    "        \n",
    "    def fully_connected(self, input_layer, weights, biases):\n",
    "        return tf.add(tf.matmul(input_layer, weights), biases)\n",
    "    \n",
    "    def activation_func(self, input_layer, func_name):\n",
    "        if func_name == 'relu':\n",
    "            return tf.nn.relu(input_layer)\n",
    "        elif func_name == 'sigmoid':\n",
    "            return tf.nn.sigmoid(input_layer)\n",
    "        elif func_name == 'tanh':\n",
    "            return tf.nn.tanh(input_layer)\n",
    "        elif func_name == 'softsign':\n",
    "            return tf.nn.softsign(input_layer)\n",
    "        return input_layer\n",
    "    \n",
    "    def set_model(self):\n",
    "        self.layers = [None] * (len(self.layers_info) - 1)\n",
    "        self.layers[0] = self.x_data\n",
    "        for i in range(len(self.weights) - 1):\n",
    "            with tf.name_scope('activation'+str(i+1)):\n",
    "                self.layers[i+1] = self.activation_func(\n",
    "                    self.fully_connected(self.layers[i], self.weights[i], self.biases[i]), \n",
    "                    self.act_func[0])\n",
    "            \n",
    "        with tf.name_scope('activation_fin'):\n",
    "            self.final_output = self.activation_func(\n",
    "                self.fully_connected(self.layers[-1], self.weights[-1], self.biases[-1]), \n",
    "                self.act_func[1])\n",
    "        \n",
    "    def set_loss_func(self):\n",
    "        if self.loss_func == 'absolute':\n",
    "            with tf.name_scope('loss'):\n",
    "                self.loss = tf.reduce_mean(tf.abs(self.y_target - self.final_output))\n",
    "        elif self.loss_func == 'euclidean':\n",
    "            with tf.name_scope('loss'):\n",
    "                self.loss = tf.reduce_mean(tf.square(self.y_target - self.final_output))\n",
    "        elif self.loss_func == 'hinge':\n",
    "            with tf.name_scope('loss'):\n",
    "                self.loss = tf.reduce_mean(tf.maximum(0., 1. - tf.multiply(self.y_target, self.final_output)))\n",
    "        elif self.loss_func == 'cross_entropy':\n",
    "            with tf.name_scope('loss'):\n",
    "                self.loss = - tf.reduce_mean(tf.multiply(self.y_target, tf.log(self.final_output)) +\n",
    "                                         tf.multiply((1. - self.y_target), tf.log(1. - self.final_output)))\n",
    "    \n",
    "    def set_optimize_func(self):\n",
    "        if self.optimizer == 'gradient':\n",
    "            self.my_opt = tf.train.GradientDescentOptimizer(0.05)\n",
    "        elif self.optimizer == 'momentum':\n",
    "            self.my_opt = tf.train.MomentumOptimizer(0.05)\n",
    "        elif self.optimizer == 'adam':\n",
    "            self.my_opt = tf.train.AdamOptimizer(0.05)\n",
    "        elif self.optimizer == 'adagrad':\n",
    "            self.my_opt = tf.train.AdagradOptimizer(0.05)\n",
    "        elif self.optimizer == 'adadelta':\n",
    "            self.my_opt = tf.train.AdadeltaOptimizer(0.05)\n",
    "    \n",
    "    def train(self, x_test_data, y_test_data, batch_size=10, epoch=100):\n",
    "        self.batch_size = batch_size\n",
    "        self.epoch = epoch\n",
    "        self.loss_vec = []\n",
    "        self.test_loss = []\n",
    "\n",
    "        for i in range(self.epoch):\n",
    "            rand_index = np.random.choice(len(self.x_train_data), size=self.batch_size)\n",
    "            rand_x = self.x_train_data[rand_index]\n",
    "            rand_y = self.y_train_data[rand_index]\n",
    "            self.sess.run(self.final_output, feed_dict={self.x_data: rand_x, self.y_target: rand_y})\n",
    "            \n",
    "            self.sess.run(self.train_step, feed_dict={self.x_data: rand_x, self.y_target: rand_y})\n",
    "\n",
    "            temp_loss = self.sess.run(self.loss, feed_dict={self.x_data: rand_x, self.y_target: rand_y})\n",
    "            self.loss_vec.append(temp_loss)\n",
    "\n",
    "            test_temp_loss = self.sess.run(self.loss, feed_dict={self.x_data: x_test_data, self.y_target: y_test_data})\n",
    "            self.test_loss.append(test_temp_loss)\n",
    "\n",
    "            if (i+1)%1 == 0:\n",
    "                print('Generation: ' + str(i+1) + '. Loss = ' + str(temp_loss))\n",
    "                \n",
    "    def get_loss_vec(self):\n",
    "        return self.loss_vec, self.test_loss\n",
    "    "
   ]
  },
  {
   "cell_type": "code",
   "execution_count": 3,
   "metadata": {
    "collapsed": false,
    "deletable": true,
    "editable": true
   },
   "outputs": [],
   "source": [
    "my_neural_model = NeuralNetwork(x_vals_train, y_vals_train, hidden_layers_info=[300, 100], act_func=['relu','relu'], \n",
    "                                loss_func='absolute', optimizer='adam', drop_out=False)"
   ]
  },
  {
   "cell_type": "code",
   "execution_count": 5,
   "metadata": {
    "collapsed": false,
    "deletable": true,
    "editable": true
   },
   "outputs": [
    {
     "name": "stdout",
     "output_type": "stream",
     "text": [
      "Generation: 1. Loss = 0.1\n",
      "Generation: 2. Loss = 0.1\n",
      "Generation: 3. Loss = 0.1\n",
      "Generation: 4. Loss = 0.1\n",
      "Generation: 5. Loss = 0.1\n",
      "Generation: 6. Loss = 0.1\n",
      "Generation: 7. Loss = 0.1\n",
      "Generation: 8. Loss = 0.1\n",
      "Generation: 9. Loss = 0.1\n",
      "Generation: 10. Loss = 0.1\n",
      "Generation: 11. Loss = 0.1\n",
      "Generation: 12. Loss = 0.1\n",
      "Generation: 13. Loss = 0.1\n",
      "Generation: 14. Loss = 0.1\n",
      "Generation: 15. Loss = 0.1\n",
      "Generation: 16. Loss = 0.1\n",
      "Generation: 17. Loss = 0.1\n",
      "Generation: 18. Loss = 0.1\n",
      "Generation: 19. Loss = 0.1\n",
      "Generation: 20. Loss = 0.1\n"
     ]
    }
   ],
   "source": [
    "my_neural_model.train(x_vals_test, y_vals_test, batch_size=5, epoch=20)"
   ]
  },
  {
   "cell_type": "code",
   "execution_count": 18,
   "metadata": {
    "collapsed": true,
    "deletable": true,
    "editable": true
   },
   "outputs": [],
   "source": [
    "loss_vec, test_loss = my_neural_model.get_loss_vec()"
   ]
  },
  {
   "cell_type": "code",
   "execution_count": null,
   "metadata": {
    "collapsed": true,
    "deletable": true,
    "editable": true
   },
   "outputs": [],
   "source": []
  },
  {
   "cell_type": "code",
   "execution_count": 19,
   "metadata": {
    "collapsed": false,
    "deletable": true,
    "editable": true
   },
   "outputs": [
    {
     "data": {
      "image/png": "[encoded data removed]",
      "text/plain": [
       "<matplotlib.figure.Figure at 0x12f5f2320>"
      ]
     },
     "metadata": {},
     "output_type": "display_data"
    }
   ],
   "source": [
    "plt.plot(loss_vec, 'k-', label='Train Loss') \n",
    "plt.plot(test_loss, 'r--', label='Test Loss') \n",
    "plt.title('Loss (MSE) per Generation') \n",
    "plt.xlabel('Generation')\n",
    "plt.ylabel('Loss') \n",
    "plt.legend(loc='upper right') \n",
    "plt.show()"
   ]
  },
  {
   "cell_type": "code",
   "execution_count": null,
   "metadata": {
    "collapsed": true,
    "deletable": true,
    "editable": true
   },
   "outputs": [],
   "source": []
  },
  {
   "cell_type": "code",
   "execution_count": null,
   "metadata": {
    "collapsed": true,
    "deletable": true,
    "editable": true
   },
   "outputs": [],
   "source": []
  },
  {
   "cell_type": "code",
   "execution_count": null,
   "metadata": {
    "collapsed": true,
    "deletable": true,
    "editable": true
   },
   "outputs": [],
   "source": []
  },
  {
   "cell_type": "code",
   "execution_count": null,
   "metadata": {
    "collapsed": true,
    "deletable": true,
    "editable": true
   },
   "outputs": [],
   "source": []
  }
 ],
 "metadata": {
  "kernelspec": {
   "display_name": "Python [default]",
   "language": "python",
   "name": "python3"
  },
  "language_info": {
   "codemirror_mode": {
    "name": "ipython",
    "version": 3
   },
   "file_extension": ".py",
   "mimetype": "text/x-python",
   "name": "python",
   "nbconvert_exporter": "python",
   "pygments_lexer": "ipython3",
   "version": "3.5.3"
  }
 },
 "nbformat": 4,
 "nbformat_minor": 2
}
